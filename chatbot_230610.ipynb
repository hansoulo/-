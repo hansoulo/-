{
  "nbformat": 4,
  "nbformat_minor": 0,
  "metadata": {
    "colab": {
      "provenance": [],
      "authorship_tag": "ABX9TyOdiP8w7Jjrzsm8ZbNP2QLI",
      "include_colab_link": true
    },
    "kernelspec": {
      "name": "python3",
      "display_name": "Python 3"
    },
    "language_info": {
      "name": "python"
    }
  },
  "cells": [
    {
      "cell_type": "markdown",
      "metadata": {
        "id": "view-in-github",
        "colab_type": "text"
      },
      "source": [
        "<a href=\"https://colab.research.google.com/github/hansoulo/-/blob/main/chatbot_230610.ipynb\" target=\"_parent\"><img src=\"https://colab.research.google.com/assets/colab-badge.svg\" alt=\"Open In Colab\"/></a>"
      ]
    },
    {
      "cell_type": "code",
      "source": [
        "import pandas as pd\n",
        "import numpy as np\n",
        "\n",
        "# 챗봇 클래스를 정의\n",
        "class SimpleChatBot:\n",
        "    # 챗봇 객체를 초기화하는 메서드, 초기화 시에는 입력된 데이터 파일을 로드하고, 질문 데이터를 저장함\n",
        "    def __init__(self, filepath):\n",
        "        self.questions, self.answers = self.load_data(filepath)\n",
        "\n",
        "    # CSV 파일로부터 질문과 답변 데이터를 불러오는 메서드\n",
        "    def load_data(self, filepath):\n",
        "        data = pd.read_csv(filepath)\n",
        "        questions = data['Q'].tolist()\n",
        "        answers = data['A'].tolist()\n",
        "        return questions, answers\n",
        "\n",
        "    # 입력 문장에 가장 잘 맞는 답변을 찾는 메서드, 입력 문장과 기존 질문 간의 Levenshtein distance를 계산하여 가장 작은 거리를 가진 질문의 답변을 반환함\n",
        "    def find_best_answer(self, input_sentence):\n",
        "        distances = []\n",
        "        for question in self.questions:\n",
        "            distance = self.levenshtein_distance(input_sentence, question)\n",
        "            distances.append(distance)\n",
        "\n",
        "        min_distance = min(distances)\n",
        "        index = distances.index(min_distance)\n",
        "        return self.answers[index]\n",
        "\n",
        "    # Levenshtein distance를 계산하는 메서드\n",
        "    def levenshtein_distance(self, s1, s2):\n",
        "        m = len(s1)\n",
        "        n = len(s2)\n",
        "        dp = np.zeros((m+1, n+1))\n",
        "       \n",
        "        for i in range(m+1):\n",
        "            dp[i][0] = i\n",
        "        for j in range(n+1):\n",
        "            dp[0][j] = j\n",
        "       \n",
        "        for i in range(1, m+1):\n",
        "            for j in range(1, n+1):\n",
        "                if s1[i-1] == s2[j-1]:\n",
        "                    dp[i][j] = dp[i-1][j-1]\n",
        "                else:\n",
        "                    dp[i][j] = 1 + min(dp[i-1][j], dp[i][j-1], dp[i-1][j-1])\n",
        "       \n",
        "        return dp[m][n]\n",
        "\n",
        "# 데이터 파일의 경로를 지정합니다.\n",
        "filepath = 'ChatbotData.csv'\n",
        "\n",
        "# 챗봇 객체를 생성합니다.\n",
        "chatbot = SimpleChatBot(filepath)\n",
        "\n",
        "# '종료'라는 입력이 나올 때까지 사용자의 입력에 따라 챗봇의 응답을 출력하는 무한 루프를 실행합니다.\n",
        "while True:\n",
        "    input_sentence = input('You: ')\n",
        "    if input_sentence.lower() == '종료':\n",
        "        break\n",
        "    response = chatbot.find_best_answer(input_sentence)\n",
        "    print('Chatbot:', response)\n"
      ],
      "metadata": {
        "id": "cnOA0sCeuSzp",
        "colab": {
          "base_uri": "https://localhost:8080/"
        },
        "outputId": "7b6939c4-515f-4196-cebc-1f5c2681b71b"
      },
      "execution_count": null,
      "outputs": [
        {
          "output_type": "stream",
          "name": "stdout",
          "text": [
            "You: 시험 준비는 잘되어가?\n",
            "Chatbot: 공부를 많이 해놨나봐요.\n"
          ]
        }
      ]
    }
  ]
}